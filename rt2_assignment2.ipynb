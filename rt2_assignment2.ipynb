{
 "cells": [
  {
   "cell_type": "markdown",
   "id": "83e63eee",
   "metadata": {},
   "source": [
    "This notebook is developed as a user interface to the rt2_assignment1_1 ROS package.\n",
    "\n",
    "It is composed of seven main components:\n",
    "\n",
    "      1- Initializations\n",
    "      \n",
    "      2- Implementing the robot's starting/stopping using two buttons\n",
    "\n",
    "      3- Implementing the control of the robot's linear and angular velocity using sliders\n",
    "\n",
    "      4- Implementing the control of the robot using (forward, turn right, backward, turn left, stop) buttons\n",
    "\n",
    "      5- Visualizing cmd_vel vs. actual velocity\n",
    "\n",
    "      6- Visualizing the robot's position\n",
    "      \n",
    "      7- Bar plot displaying reached and cancelled targets\n",
    "\n",
    "      8- Histogram plot displaying time required to reach targets"
   ]
  },
  {
   "cell_type": "markdown",
   "id": "eaaee1f5",
   "metadata": {
    "heading_collapsed": true
   },
   "source": [
    "#### Initializations"
   ]
  },
  {
   "cell_type": "markdown",
   "id": "5f15691b",
   "metadata": {
    "hidden": true
   },
   "source": [
    "First, launch the ros simulation:\n",
    "\n",
    "$ roslaunch rt2_assignment1_1 sim.launch"
   ]
  },
  {
   "cell_type": "markdown",
   "id": "196ec981",
   "metadata": {
    "hidden": true
   },
   "source": [
    "Import all required libraries and ros messages"
   ]
  },
  {
   "cell_type": "code",
   "execution_count": 1,
   "id": "7d8871fe",
   "metadata": {
    "ExecuteTime": {
     "end_time": "2021-09-18T21:20:07.184095Z",
     "start_time": "2021-09-18T21:20:05.395889Z"
    },
    "hidden": true
   },
   "outputs": [],
   "source": [
    "%matplotlib widget\n",
    "import numpy as np\n",
    "import matplotlib.pyplot as plt\n",
    "import jupyros as jr\n",
    "import rospy\n",
    "from matplotlib import animation, rc\n",
    "import ipywidgets as widgets\n",
    "from ipywidgets import Button, ButtonStyle, Layout, VBox, HBox, GridBox\n",
    "import time"
   ]
  },
  {
   "cell_type": "code",
   "execution_count": 2,
   "id": "4e8686bb",
   "metadata": {
    "ExecuteTime": {
     "end_time": "2021-09-18T21:20:07.912782Z",
     "start_time": "2021-09-18T21:20:07.879785Z"
    },
    "hidden": true
   },
   "outputs": [],
   "source": [
    "from geometry_msgs.msg import Twist\n",
    "from nav_msgs.msg import Odometry\n",
    "from rt2_assignment1_1.srv import Command\n",
    "from rt2_assignment1_1.msg import GoToPointActionResult\n"
   ]
  },
  {
   "cell_type": "markdown",
   "id": "9a6b4885",
   "metadata": {
    "hidden": true
   },
   "source": [
    "Initializing the ros node, the client to the user_interface service, and the cmd_vel publisher"
   ]
  },
  {
   "cell_type": "code",
   "execution_count": 3,
   "id": "36be242b",
   "metadata": {
    "ExecuteTime": {
     "end_time": "2021-09-18T21:20:09.383429Z",
     "start_time": "2021-09-18T21:20:09.129778Z"
    },
    "hidden": true
   },
   "outputs": [],
   "source": [
    "rospy.init_node('user_interface')\n",
    "ui_client = rospy.ServiceProxy('/user_interface', Command)\n",
    "vel_pub = rospy.Publisher('/cmd_vel', Twist, queue_size=1)"
   ]
  },
  {
   "cell_type": "markdown",
   "id": "7a49ed95",
   "metadata": {
    "hidden": true
   },
   "source": [
    "Throughout the testing of this user interface notebook, we need to store all the values related to reached and cancelled targets as well as time durations to reach targets. These data will be plotted later in the end in sections 6 and 7. "
   ]
  },
  {
   "cell_type": "code",
   "execution_count": 4,
   "id": "b9e5427b",
   "metadata": {
    "ExecuteTime": {
     "end_time": "2021-09-18T21:20:10.736924Z",
     "start_time": "2021-09-18T21:20:10.633094Z"
    },
    "hidden": true
   },
   "outputs": [
    {
     "data": {
      "application/vnd.jupyter.widget-view+json": {
       "model_id": "a3a33669e43b43b4bff092e404aba339",
       "version_major": 2,
       "version_minor": 0
      },
      "text/plain": [
       "VBox(children=(HBox(children=(Button(description='Stop', style=ButtonStyle()),)), Output(layout=Layout(border=…"
      ]
     },
     "metadata": {},
     "output_type": "display_data"
    }
   ],
   "source": [
    "num_reached=0  ##number of reached targets\n",
    "num_unreached=0  ##number of cancelled targets\n",
    "durations=[]   ##list to store time duration to reach every target\n",
    "\n",
    "##################################################\n",
    "#the callback function for the /go_to_point_ac/result subscriber\n",
    "def goal_result_callback(msg):\n",
    "    global num_reached\n",
    "    global num_unreached\n",
    "    \n",
    "    if msg.result.reached == True:\n",
    "        #if the goal was reached, increase the number of reached targets\n",
    "        num_reached = num_reached+1\n",
    "        #calculate the time duration in sec to get to the target and append it to the list\n",
    "        start_time = (msg.status.goal_id.stamp.secs*1000000000) + msg.status.goal_id.stamp.nsecs\n",
    "        end_time = (msg.header.stamp.secs*1000000000) + msg.header.stamp.nsecs\n",
    "        duration_sec = (end_time - start_time)/1000000000\n",
    "        durations.append(duration_sec)\n",
    "    else:\n",
    "        #if the goal is cancelled, increase the number of cancelled targets\n",
    "        num_unreached = num_unreached+1\n",
    "    \n",
    "\n",
    "#Define the subscriber to /go_to_point_ac/result to observe the goals results\n",
    "jr.subscribe('/go_to_point_ac/result', GoToPointActionResult, goal_result_callback)"
   ]
  },
  {
   "cell_type": "markdown",
   "id": "c74f6999",
   "metadata": {
    "heading_collapsed": true
   },
   "source": [
    "#### Implementing the robot's starting/stopping using two buttons"
   ]
  },
  {
   "cell_type": "markdown",
   "id": "731d69df",
   "metadata": {
    "hidden": true
   },
   "source": [
    "defining the start and stop buttons"
   ]
  },
  {
   "cell_type": "code",
   "execution_count": 5,
   "id": "a42fc4b6",
   "metadata": {
    "ExecuteTime": {
     "end_time": "2021-09-18T21:20:12.792468Z",
     "start_time": "2021-09-18T21:20:12.723418Z"
    },
    "hidden": true
   },
   "outputs": [],
   "source": [
    "b_start = Button(description='Start', layout=Layout(width='auto', align='center', grid_area='b_start'), style=ButtonStyle(button_color='green'))\n",
    "b_stop = Button(description='Stop', layout=Layout(width='auto', align='center', grid_area= 'b_stop'), style=ButtonStyle(button_color='red'))"
   ]
  },
  {
   "cell_type": "code",
   "execution_count": 6,
   "id": "3afa6b6b",
   "metadata": {
    "ExecuteTime": {
     "end_time": "2021-09-18T21:20:13.420525Z",
     "start_time": "2021-09-18T21:20:13.407727Z"
    },
    "hidden": true,
    "scrolled": true
   },
   "outputs": [
    {
     "data": {
      "application/vnd.jupyter.widget-view+json": {
       "model_id": "93c4147dfe9549fd9ea8683793184bd8",
       "version_major": 2,
       "version_minor": 0
      },
      "text/plain": [
       "Button(description='Start', layout=Layout(grid_area='b_start', width='auto'), style=ButtonStyle(button_color='…"
      ]
     },
     "metadata": {},
     "output_type": "display_data"
    },
    {
     "data": {
      "application/vnd.jupyter.widget-view+json": {
       "model_id": "b63074f6bdc4419480b03da013e35b0c",
       "version_major": 2,
       "version_minor": 0
      },
      "text/plain": [
       "Button(description='Stop', layout=Layout(grid_area='b_stop', width='auto'), style=ButtonStyle(button_color='re…"
      ]
     },
     "metadata": {},
     "output_type": "display_data"
    }
   ],
   "source": [
    "display(b_start)\n",
    "display(b_stop)"
   ]
  },
  {
   "cell_type": "markdown",
   "id": "eccf1e37",
   "metadata": {
    "hidden": true
   },
   "source": [
    "defining the on_click functions for the two buttons"
   ]
  },
  {
   "cell_type": "code",
   "execution_count": 7,
   "id": "3db2f132",
   "metadata": {
    "ExecuteTime": {
     "end_time": "2021-09-18T21:20:14.352328Z",
     "start_time": "2021-09-18T21:20:14.321065Z"
    },
    "hidden": true
   },
   "outputs": [],
   "source": [
    "def on_start_click(b_start):\n",
    "    #call the service with \"start\" command\n",
    "    ui_client(\"start\")\n",
    "    \n",
    "def on_stop_click(b_stop):\n",
    "    #call the service with \"stop\" command\n",
    "    ui_client(\"stop\")\n",
    "    \n",
    "b_start.on_click(on_start_click)\n",
    "b_stop.on_click(on_stop_click)"
   ]
  },
  {
   "cell_type": "markdown",
   "id": "e1af01c6",
   "metadata": {
    "heading_collapsed": true
   },
   "source": [
    "#### Implementing the control of the robot's linear and angular velocity using sliders"
   ]
  },
  {
   "cell_type": "code",
   "execution_count": 8,
   "id": "fa273b8d",
   "metadata": {
    "ExecuteTime": {
     "end_time": "2021-09-18T21:20:15.686835Z",
     "start_time": "2021-09-18T21:20:15.587452Z"
    },
    "hidden": true
   },
   "outputs": [
    {
     "data": {
      "application/vnd.jupyter.widget-view+json": {
       "model_id": "695e223aef67477bb8e2f36d5555ca23",
       "version_major": 2,
       "version_minor": 0
      },
      "text/plain": [
       "FloatSlider(value=0.0, max=1.0, min=-1.0)"
      ]
     },
     "metadata": {},
     "output_type": "display_data"
    },
    {
     "data": {
      "application/vnd.jupyter.widget-view+json": {
       "model_id": "8b25379e23614d829170fd94fce09c48",
       "version_major": 2,
       "version_minor": 0
      },
      "text/plain": [
       "FloatSlider(value=0.0, max=1.0, min=-1.0)"
      ]
     },
     "metadata": {},
     "output_type": "display_data"
    }
   ],
   "source": [
    "msg = Twist()\n",
    "\n",
    "##Defining the two sliders for linear and angular velocities\n",
    "a = widgets.FloatSlider(min=-1.0, max=1.0)\n",
    "display(a)\n",
    "\n",
    "b = widgets.FloatSlider(min=-1.0, max=1.0)\n",
    "display(b)\n",
    "\n",
    "## Defining the callback functions for change in each slider\n",
    "def on_value_change(change):\n",
    "    #stop the robot\n",
    "    ui_client(\"stop\")\n",
    "    #publish the new linear velocity value \n",
    "    global msg\n",
    "    msg.linear.x = change['new']\n",
    "    vel_pub.publish(msg)\n",
    "    \n",
    "def on_valueang_change(change):\n",
    "    #stop the robot\n",
    "    ui_client(\"stop\")\n",
    "    #publish the new angular velocity value\n",
    "    global msg\n",
    "    msg.angular.z = change['new']\n",
    "    vel_pub.publish(msg)\n",
    "\n",
    "a.observe(on_value_change, names='value')\n",
    "b.observe(on_valueang_change, names='value')"
   ]
  },
  {
   "cell_type": "markdown",
   "id": "10e2c902",
   "metadata": {
    "heading_collapsed": true
   },
   "source": [
    "#### Implementing the control of the robot using (forward, turn right, backward, turn left, stop) buttons"
   ]
  },
  {
   "cell_type": "markdown",
   "id": "e2eb0b54",
   "metadata": {
    "hidden": true
   },
   "source": [
    "Defining the five buttons with appropriate icon for each button"
   ]
  },
  {
   "cell_type": "code",
   "execution_count": 9,
   "id": "93113430",
   "metadata": {
    "ExecuteTime": {
     "end_time": "2021-09-18T21:20:17.686823Z",
     "start_time": "2021-09-18T21:20:17.590213Z"
    },
    "hidden": true
   },
   "outputs": [],
   "source": [
    "b_up = Button(description='', \n",
    "              layout=Layout(width='auto', grid_area='b_up'), \n",
    "              style=ButtonStyle(button_color='lightgreen'),\n",
    "             icon = 'angle-double-up')\n",
    "b_right = Button(description='', \n",
    "                 layout=Layout(width='auto', grid_area= 'b_right'), \n",
    "                 style=ButtonStyle(button_color='lightgreen'),\n",
    "                icon = 'angle-double-right')\n",
    "b_left = Button(description='', \n",
    "                layout=Layout(width='auto', grid_area='b_left'), \n",
    "                style=ButtonStyle(button_color='lightgreen'),\n",
    "               icon = 'angle-double-left')\n",
    "b_back = Button(description='', \n",
    "                layout=Layout(width='auto', grid_area= 'b_back'), \n",
    "                style=ButtonStyle(button_color='lightgreen'),\n",
    "               icon = 'angle-double-down')\n",
    "b_stopp = Button(description='Stop', \n",
    "                 layout=Layout(width='auto', grid_area='b_stopp'), \n",
    "                 style=ButtonStyle(button_color='orange'))"
   ]
  },
  {
   "cell_type": "markdown",
   "id": "5f446743",
   "metadata": {
    "hidden": true
   },
   "source": [
    "Placing the buttons in appropriate places using GridBox"
   ]
  },
  {
   "cell_type": "code",
   "execution_count": 10,
   "id": "e0a73ec7",
   "metadata": {
    "ExecuteTime": {
     "end_time": "2021-09-18T21:20:18.748252Z",
     "start_time": "2021-09-18T21:20:18.719416Z"
    },
    "hidden": true
   },
   "outputs": [
    {
     "data": {
      "application/vnd.jupyter.widget-view+json": {
       "model_id": "aa8c2fd5cfc54545b52fb191e7c408ed",
       "version_major": 2,
       "version_minor": 0
      },
      "text/plain": [
       "GridBox(children=(Button(icon='angle-double-up', layout=Layout(grid_area='b_up', width='auto'), style=ButtonSt…"
      ]
     },
     "metadata": {},
     "output_type": "display_data"
    }
   ],
   "source": [
    "GridBox(children=[b_up, b_right, b_left, b_back, b_stopp], \n",
    "        layout = Layout(width = '50%',\n",
    "                        grid_template_rows = 'auto auto auto',\n",
    "                        grid_template_columns = '25% 25% 25%',\n",
    "                        grid_template_areas = '''\n",
    "                        \". b_up .\"\n",
    "                        \"b_left b_stopp b_right\"\n",
    "                        \". b_back .\"\n",
    "                        '''\n",
    "                        )\n",
    "       )"
   ]
  },
  {
   "cell_type": "markdown",
   "id": "91af4e73",
   "metadata": {
    "hidden": true
   },
   "source": [
    "Defining the callback function for each button"
   ]
  },
  {
   "cell_type": "code",
   "execution_count": 11,
   "id": "7d166fa1",
   "metadata": {
    "ExecuteTime": {
     "end_time": "2021-09-18T21:20:19.704847Z",
     "start_time": "2021-09-18T21:20:19.669373Z"
    },
    "hidden": true
   },
   "outputs": [],
   "source": [
    "def on_forward_click(b_up):\n",
    "    #stop the robot\n",
    "    ui_client(\"stop\")\n",
    "    # publish forward linear velocity\n",
    "    global msg\n",
    "    msg.linear.x = 0.4\n",
    "    msg.angular.z = 0.0\n",
    "    vel_pub.publish(msg)\n",
    "    \n",
    "def on_right_click(b_right):\n",
    "    #stop the robot\n",
    "    ui_client(\"stop\")\n",
    "    #publish positive angular velocity with small forward velocity\n",
    "    global msg\n",
    "    msg.linear.x = 0.1\n",
    "    msg.angular.z = 0.4\n",
    "    vel_pub.publish(msg)\n",
    "    \n",
    "def on_left_click(b_left):\n",
    "    #stop the robot\n",
    "    ui_client(\"stop\")\n",
    "    #publish negative angular velocity with small forward velocity\n",
    "    global msg\n",
    "    msg.linear.x = 0.1\n",
    "    msg.angular.z = -0.4\n",
    "    vel_pub.publish(msg)\n",
    "    \n",
    "def on_backward_click(b_back):\n",
    "    #stop the robot\n",
    "    ui_client(\"stop\")\n",
    "    # publish backward linear velocity\n",
    "    global msg\n",
    "    msg.linear.x = -0.4\n",
    "    msg.angular.z = 0.0\n",
    "    vel_pub.publish(msg)\n",
    "    \n",
    "def on_stopp_click(b_stopp):\n",
    "    #stop the robot\n",
    "    ui_client(\"stop\")\n",
    "    #publish zero velocity (This is done to cancel any effect the velocity slider may still doing)\n",
    "    global msg\n",
    "    msg.linear.x = 0.0\n",
    "    msg.angular.z = 0.0\n",
    "    vel_pub.publish(msg)\n",
    "    \n",
    "b_up.on_click(on_forward_click)\n",
    "b_right.on_click(on_right_click)\n",
    "b_left.on_click(on_left_click)\n",
    "b_back.on_click(on_backward_click)\n",
    "b_stopp.on_click(on_stopp_click)"
   ]
  },
  {
   "cell_type": "markdown",
   "id": "7883b9f0",
   "metadata": {
    "heading_collapsed": true
   },
   "source": [
    "#### Visualizing cmd_vel vs. actual velocity"
   ]
  },
  {
   "cell_type": "markdown",
   "id": "bc5d7074",
   "metadata": {
    "hidden": true
   },
   "source": [
    "Here I plot the cmd_vel vs actual robot velocity in real time. Velocities are updated in the plot only each 1 second in order to avoid filling up the memory with a lot of received velocity values from the subscribers. \n",
    "\n",
    "Actual robot's velocity is retrieved from /odom topic in the field twist\n",
    "\n",
    "cmd_vel value is retrieved from /cmd_vel topic\n",
    "\n",
    "In the angular velocity plot, you may notice that the actual and cmd_vel values are opposite in sin. The reason for this can be that the sign convention of angular.z in /odom is different from /cmd_vel (I am not sure)"
   ]
  },
  {
   "cell_type": "code",
   "execution_count": 12,
   "id": "0ce1c6ae",
   "metadata": {
    "ExecuteTime": {
     "end_time": "2021-09-18T21:20:21.246371Z",
     "start_time": "2021-09-18T21:20:21.074741Z"
    },
    "hidden": true
   },
   "outputs": [
    {
     "data": {
      "application/vnd.jupyter.widget-view+json": {
       "model_id": "68c7b74f9bd547d0b6c0efa4bf9b3a08",
       "version_major": 2,
       "version_minor": 0
      },
      "text/plain": [
       "Canvas(toolbar=Toolbar(toolitems=[('Home', 'Reset original view', 'home', 'home'), ('Back', 'Back to previous …"
      ]
     },
     "metadata": {},
     "output_type": "display_data"
    },
    {
     "data": {
      "text/plain": [
       "<matplotlib.legend.Legend at 0x7f25fc1bbdc0>"
      ]
     },
     "execution_count": 12,
     "metadata": {},
     "output_type": "execute_result"
    }
   ],
   "source": [
    "# First set up the figure and the axis for plotting the linear velocities\n",
    "fig, ax = plt.subplots()\n",
    "\n",
    "ax.set_xlim(( -2, 500)) #plot the velocities for the first 500 seconds \n",
    "ax.set_ylim((-1, 1))  #set y limits between -1 and 1\n",
    "ax.set_title('Linear cmd_vel vs actual velocity')\n",
    "ax.set_ylabel('Linear velocity')\n",
    "ax.set_xlabel('time (S)')\n",
    "\n",
    "line1, = ax.plot([],[], 'r--', label='actual velocity')\n",
    "line2, = ax.plot([],[], 'b--', label='cmd_vel')\n",
    "ax.legend()\n"
   ]
  },
  {
   "cell_type": "code",
   "execution_count": 13,
   "id": "7aa668db",
   "metadata": {
    "ExecuteTime": {
     "end_time": "2021-09-18T21:20:22.151032Z",
     "start_time": "2021-09-18T21:20:22.046548Z"
    },
    "hidden": true
   },
   "outputs": [
    {
     "data": {
      "application/vnd.jupyter.widget-view+json": {
       "model_id": "31093992fe954471bfdc48e05dd56ec7",
       "version_major": 2,
       "version_minor": 0
      },
      "text/plain": [
       "Canvas(toolbar=Toolbar(toolitems=[('Home', 'Reset original view', 'home', 'home'), ('Back', 'Back to previous …"
      ]
     },
     "metadata": {},
     "output_type": "display_data"
    },
    {
     "data": {
      "text/plain": [
       "<matplotlib.legend.Legend at 0x7f25fc108e50>"
      ]
     },
     "execution_count": 13,
     "metadata": {},
     "output_type": "execute_result"
    }
   ],
   "source": [
    "# Setting up the figure and the axis for plotting the angular velocities\n",
    "fig2, ax2 = plt.subplots()\n",
    "\n",
    "ax2.set_xlim(( -2, 500)) #plot the velocities for the first 500 seconds \n",
    "ax2.set_ylim((-1, 1))    #set y limits between -1 and 1\n",
    "ax2.set_title('Angular cmd_vel vs actual velocity')\n",
    "ax2.set_ylabel('angular velocity')\n",
    "ax2.set_xlabel('time (S)')\n",
    "\n",
    "line3, = ax2.plot([],[], 'r--', label='actual velocity')\n",
    "line4, = ax2.plot([],[], 'b--', label='cmd_vel')\n",
    "ax2.legend()\n"
   ]
  },
  {
   "cell_type": "code",
   "execution_count": 14,
   "id": "0887ec40",
   "metadata": {
    "ExecuteTime": {
     "end_time": "2021-09-18T21:20:23.516775Z",
     "start_time": "2021-09-18T21:20:23.329101Z"
    },
    "hidden": true
   },
   "outputs": [
    {
     "data": {
      "application/vnd.jupyter.widget-view+json": {
       "model_id": "05a68821f4784ccb9f93195afa5cd283",
       "version_major": 2,
       "version_minor": 0
      },
      "text/plain": [
       "VBox(children=(HBox(children=(Button(description='Stop', style=ButtonStyle()),)), Output(layout=Layout(border=…"
      ]
     },
     "metadata": {},
     "output_type": "display_data"
    }
   ],
   "source": [
    "#inintializing the varibales used for updating the velocity values and the plots\n",
    "#Also the variables used for storing the robot's x and y position are initialized and updated for plotting the position \n",
    "# in the next section\n",
    "\n",
    "count=0            #count to update the x data of the plots\n",
    "current_act_vel_lin=0   #current value of actual linear velocity\n",
    "current_cmd_vel_lin=0   #current value of linear cmd_vel\n",
    "current_act_vel_ang=0   #current value of actual angualr velocity\n",
    "current_cmd_vel_ang=0   #current value of angualr cmd_vel\n",
    "current_x_pos=0         #current value of robot's x position\n",
    "current_y_pos=0         #current value of robot's y position\n",
    "\n",
    "x_data=[]  #list to store the x data for the plots\n",
    "act_vel_data=[]  #list to store the actual linear velocity data for plotting\n",
    "cmd_vel_data=[]  #list to store the linear cmd_vel data for plotting\n",
    "act_vel_data_ang=[]  #list to store the actual angular velocity data for plotting\n",
    "cmd_vel_data_ang=[]  #list to store the angular cmd_vel data for plotting\n",
    "\n",
    "\n",
    "##############################################\n",
    "\n",
    "#the intialization functions for the four plots\n",
    "def init1():\n",
    "    line1.set_data([],[])\n",
    "    return (line1,)\n",
    "\n",
    "def init2():\n",
    "    line2.set_data([],[])\n",
    "    return (line2,)\n",
    "\n",
    "def init3():\n",
    "    line3.set_data([],[])\n",
    "    return (line3,)\n",
    "\n",
    "def init4():\n",
    "    line4.set_data([],[])\n",
    "    return (line4,)\n",
    "##############################################\n",
    "\n",
    "\n",
    "#the callback function for /odom subscriber\n",
    "def actual_vel_callback(msg):\n",
    "    global current_act_vel_lin\n",
    "    global current_act_vel_ang\n",
    "    global current_x_pos\n",
    "    global current_y_pos\n",
    "    #Get current values of actual valocity and position\n",
    "    current_act_vel_lin = msg.twist.twist.linear.x\n",
    "    current_act_vel_ang = msg.twist.twist.angular.z\n",
    "    current_x_pos= msg.pose.pose.position.x\n",
    "    current_y_pos=msg.pose.pose.position.y\n",
    "\n",
    "    \n",
    "#the callback function for /cmd_vel subscriber\n",
    "def cmd_vel_callback(msg):\n",
    "    global current_cmd_vel_lin\n",
    "    global current_cmd_vel_ang\n",
    "    #get current values of cmd_vel\n",
    "    current_cmd_vel_lin = msg.linear.x\n",
    "    current_cmd_vel_ang = msg.angular.z\n",
    "    \n",
    "\n",
    "##################################################\n",
    "\n",
    "\n",
    "#the function to update the linear actual velocity plot\n",
    "def animate1(i):\n",
    "    global count\n",
    "    ## Append the recent values of actual and cmd velocities and update the count\n",
    "    ## This is implemented here to plot the velocities only at each 1 second (the interval of animate function)\n",
    "    x_data.append(count)\n",
    "    act_vel_data.append(current_act_vel_lin)\n",
    "    cmd_vel_data.append(current_cmd_vel_lin)\n",
    "    act_vel_data_ang.append(current_act_vel_ang)\n",
    "    cmd_vel_data_ang.append(current_cmd_vel_ang)\n",
    "    count=count+1\n",
    "    \n",
    "    line1.set_data(x_data, act_vel_data)\n",
    "    return (line1,)\n",
    "\n",
    "#the function to update the linear cmd_vel plot\n",
    "def animate2(i):\n",
    "    line2.set_data(x_data, cmd_vel_data)\n",
    "    return (line2,)\n",
    "\n",
    "#the function to update the angular actual velocity plot\n",
    "def animate3(i):\n",
    "    line3.set_data(x_data, act_vel_data_ang)\n",
    "    return (line3,)\n",
    "\n",
    "#the function to update the angular cmd_vel plot\n",
    "def animate4(i):\n",
    "    line4.set_data(x_data, cmd_vel_data_ang)\n",
    "    return (line4,)\n",
    "\n",
    "####################################################\n",
    "\n",
    "\n",
    "# subscribers to /odom and /cmd_vel topics\n",
    "jr.subscribe('/odom', Odometry, actual_vel_callback)\n",
    "jr.subscribe('/cmd_vel', Twist, cmd_vel_callback)"
   ]
  },
  {
   "cell_type": "code",
   "execution_count": 15,
   "id": "b46d8932",
   "metadata": {
    "ExecuteTime": {
     "end_time": "2021-09-18T21:20:24.057404Z",
     "start_time": "2021-09-18T21:20:24.047106Z"
    },
    "hidden": true
   },
   "outputs": [],
   "source": [
    "# call the animator. blit=True means only re-draw the parts that have changed.\n",
    "# The animator functions for all the four plots with a rate of 1 Hz\n",
    "\n",
    "anim1 = animation.FuncAnimation(fig, animate1, init_func=init1,\n",
    "                               frames=100, interval=1000, blit=True)\n",
    "anim2 = animation.FuncAnimation(fig, animate2, init_func=init2,\n",
    "                               frames=100, interval=1000, blit=True)\n",
    "anim3 = animation.FuncAnimation(fig2, animate3, init_func=init3,\n",
    "                               frames=100, interval=1000, blit=True)\n",
    "anim4 = animation.FuncAnimation(fig2, animate4, init_func=init4,\n",
    "                               frames=100, interval=1000, blit=True)"
   ]
  },
  {
   "cell_type": "markdown",
   "id": "956e486b",
   "metadata": {
    "heading_collapsed": true
   },
   "source": [
    "#### Visualizing the robot's position"
   ]
  },
  {
   "cell_type": "markdown",
   "id": "4a765651",
   "metadata": {
    "hidden": true
   },
   "source": [
    "Here I plot the robot's x and y position in real time. Position is updated in the plot only each 0.5 second in order to avoid filling up the memory with a lot of received position values from the /odom subscriber.\n",
    "\n",
    "This section is dependent on the previous section because the /odom subscriber is defined in the previous section where the position is updated regularly"
   ]
  },
  {
   "cell_type": "code",
   "execution_count": 16,
   "id": "e6b59c2b",
   "metadata": {
    "ExecuteTime": {
     "end_time": "2021-09-18T21:20:26.332791Z",
     "start_time": "2021-09-18T21:20:26.223832Z"
    },
    "hidden": true
   },
   "outputs": [
    {
     "data": {
      "application/vnd.jupyter.widget-view+json": {
       "model_id": "0a443bc88c6e4d479fdb764c48ad0d52",
       "version_major": 2,
       "version_minor": 0
      },
      "text/plain": [
       "Canvas(toolbar=Toolbar(toolitems=[('Home', 'Reset original view', 'home', 'home'), ('Back', 'Back to previous …"
      ]
     },
     "metadata": {},
     "output_type": "display_data"
    }
   ],
   "source": [
    "# First set up the figure and the axis for plotting the position\n",
    "fig_pos, ax_pos = plt.subplots()\n",
    "\n",
    "#set x and y limits to be between -5 and 5 (the limits for the random targets) \n",
    "ax_pos.set_xlim(( -5, 5)) \n",
    "ax_pos.set_ylim((-5, 5))\n",
    "ax_pos.set_title('position of the robot')\n",
    "ax_pos.set_ylabel('y position')\n",
    "ax_pos.set_xlabel('x position')\n",
    "\n",
    "line_pos, = ax_pos.plot([],[], 'ro')"
   ]
  },
  {
   "cell_type": "code",
   "execution_count": 17,
   "id": "b722e459",
   "metadata": {
    "ExecuteTime": {
     "end_time": "2021-09-18T21:20:27.686229Z",
     "start_time": "2021-09-18T21:20:27.645590Z"
    },
    "hidden": true
   },
   "outputs": [],
   "source": [
    "x_pos=[]  #list to store the x position data \n",
    "y_pos=[]  #list to store the y position data \n",
    "\n",
    "#the intialization function for the position plot\n",
    "def init_pos():\n",
    "    line_pos.set_data([],[])\n",
    "    return (line_pos,)    \n",
    "\n",
    "##################################################\n",
    "\n",
    "\n",
    "#the function to update the position plot\n",
    "def animate_pos(i):\n",
    "    x_pos.append(current_x_pos)\n",
    "    y_pos.append(current_y_pos)\n",
    "    line_pos.set_data(x_pos, y_pos)\n",
    "    return (line_pos,)"
   ]
  },
  {
   "cell_type": "code",
   "execution_count": 18,
   "id": "e6135cef",
   "metadata": {
    "ExecuteTime": {
     "end_time": "2021-09-18T21:20:28.861542Z",
     "start_time": "2021-09-18T21:20:28.851899Z"
    },
    "hidden": true
   },
   "outputs": [],
   "source": [
    "# The animator function for the position plot with a rate of 2 Hz\n",
    "anim_pos = animation.FuncAnimation(fig_pos, animate_pos, init_func=init_pos,\n",
    "                               frames=100, interval=500, blit=True)"
   ]
  },
  {
   "cell_type": "markdown",
   "id": "b81e8aaa",
   "metadata": {
    "heading_collapsed": true
   },
   "source": [
    "#### Bar plot displaying reached and cancelled targets\n",
    "#### Histogram plot displaying time required to reach targets"
   ]
  },
  {
   "cell_type": "markdown",
   "id": "6bfa8095",
   "metadata": {
    "hidden": true
   },
   "source": [
    "*Run this section in the end of testing*\n",
    "\n",
    "Here, I display the bar plot for reached and cancelled targets as well as the histogram distribution for the time required to reach targets. \n",
    "\n",
    "I tried making these plots to be updated in real time using FuncAnimation(), but, I wasn't successful"
   ]
  },
  {
   "cell_type": "code",
   "execution_count": 19,
   "id": "cc342ff6",
   "metadata": {
    "ExecuteTime": {
     "end_time": "2021-09-18T21:25:32.068759Z",
     "start_time": "2021-09-18T21:25:31.970387Z"
    },
    "hidden": true
   },
   "outputs": [
    {
     "data": {
      "application/vnd.jupyter.widget-view+json": {
       "model_id": "c4eed5a3012d40ebaf88bef6b6cde6a6",
       "version_major": 2,
       "version_minor": 0
      },
      "text/plain": [
       "Canvas(toolbar=Toolbar(toolitems=[('Home', 'Reset original view', 'home', 'home'), ('Back', 'Back to previous …"
      ]
     },
     "metadata": {},
     "output_type": "display_data"
    }
   ],
   "source": [
    "# First set up the figure and the axis for bar plotting the number of reached and cancelled targets\n",
    "fig_bar, ax_bar = plt.subplots()\n",
    "\n",
    "ax_bar.set_title('number of reached and unreached targets')\n",
    "ax_bar.set_xticks([1,0],['reached','cancelled'])\n",
    "\n",
    "bar_tgt = ax_bar.bar(['reached','cancelled'], [num_reached,num_unreached], width=0.4, color='orange')\n"
   ]
  },
  {
   "cell_type": "code",
   "execution_count": 20,
   "id": "a342be53",
   "metadata": {
    "ExecuteTime": {
     "end_time": "2021-09-18T21:25:39.872757Z",
     "start_time": "2021-09-18T21:25:39.752389Z"
    },
    "hidden": true
   },
   "outputs": [
    {
     "data": {
      "application/vnd.jupyter.widget-view+json": {
       "model_id": "02f39f5b0bc7423398a6a71bf3758e6e",
       "version_major": 2,
       "version_minor": 0
      },
      "text/plain": [
       "Canvas(toolbar=Toolbar(toolitems=[('Home', 'Reset original view', 'home', 'home'), ('Back', 'Back to previous …"
      ]
     },
     "metadata": {},
     "output_type": "display_data"
    }
   ],
   "source": [
    "# Set up the figure and the axis for histogram plotting the time required to reach targets\n",
    "fig_hist, ax_hist = plt.subplots()\n",
    "\n",
    "ax_hist.set_title('histogram distribution for time required to reach targets')\n",
    "ax_hist.set_xlabel('duration (S)')\n",
    "\n",
    "hist_tgt = ax_hist.hist(durations, bins=7, rwidth=0.4, align='mid')"
   ]
  }
 ],
 "metadata": {
  "kernelspec": {
   "display_name": "Python 3 (ipykernel)",
   "language": "python",
   "name": "python3"
  },
  "language_info": {
   "codemirror_mode": {
    "name": "ipython",
    "version": 3
   },
   "file_extension": ".py",
   "mimetype": "text/x-python",
   "name": "python",
   "nbconvert_exporter": "python",
   "pygments_lexer": "ipython3",
   "version": "3.8.5"
  },
  "toc": {
   "base_numbering": 1,
   "nav_menu": {},
   "number_sections": true,
   "sideBar": true,
   "skip_h1_title": false,
   "title_cell": "Table of Contents",
   "title_sidebar": "Contents",
   "toc_cell": false,
   "toc_position": {},
   "toc_section_display": true,
   "toc_window_display": false
  },
  "varInspector": {
   "cols": {
    "lenName": 16,
    "lenType": 16,
    "lenVar": 40
   },
   "kernels_config": {
    "python": {
     "delete_cmd_postfix": "",
     "delete_cmd_prefix": "del ",
     "library": "var_list.py",
     "varRefreshCmd": "print(var_dic_list())"
    },
    "r": {
     "delete_cmd_postfix": ") ",
     "delete_cmd_prefix": "rm(",
     "library": "var_list.r",
     "varRefreshCmd": "cat(var_dic_list()) "
    }
   },
   "types_to_exclude": [
    "module",
    "function",
    "builtin_function_or_method",
    "instance",
    "_Feature"
   ],
   "window_display": false
  }
 },
 "nbformat": 4,
 "nbformat_minor": 5
}
